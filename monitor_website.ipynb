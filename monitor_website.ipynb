{
 "cells": [
  {
   "cell_type": "code",
   "execution_count": 119,
   "metadata": {},
   "outputs": [],
   "source": [
    "import requests\n",
    "from bs4 import BeautifulSoup\n",
    "import pandas as pd\n",
    "from datetime import datetime\n",
    "import locale\n",
    "import csv\n",
    "from time import sleep"
   ]
  },
  {
   "cell_type": "code",
   "execution_count": 128,
   "metadata": {},
   "outputs": [],
   "source": [
    "def get_interventi_urls(base_url):\n",
    "  response = requests.get(base_url)\n",
    "  response.raise_for_status()\n",
    "  soup = BeautifulSoup(response.text, \"html.parser\")\n",
    "  article_selector = \"box_text_container clearfix\"\n",
    "  articles = soup.find_all('div', class_=article_selector)\n",
    "\n",
    "  interventi_urls = [\n",
    "    f\"{main_url}{a.get('href')}\"\n",
    "    for article in articles\n",
    "    for a in article.select(\"a\", href=True) \n",
    "    if not a.get('href').startswith('http')\n",
    "  ]\n",
    "  return interventi_urls\n",
    "\n",
    "\n",
    "def read_csv(filename):\n",
    "  df = pd.read_csv(filename)\n",
    "  return df[\"url\"].tolist()\n",
    "\n",
    "def get_date(soup):\n",
    "  locale.setlocale(locale.LC_TIME, 'it_IT.UTF-8')\n",
    "  date = soup.find(\"p\", class_=\"h6\").text\n",
    "  italian_date = datetime.strptime(date, \"%A, %d %B %Y\")\n",
    "  formatted_date = italian_date.strftime(\"%Y-%m-%d\")\n",
    "  return formatted_date\n",
    "\n",
    "def create_data(interventi_urls):\n",
    "  # Creates a list of dictionaries from the list of URLS.\n",
    "  data = []\n",
    "\n",
    "  for url in interventi_urls:\n",
    "    response = requests.get(url)\n",
    "    response.raise_for_status()\n",
    "    soup = BeautifulSoup(response.text, \"html.parser\")\n",
    "\n",
    "    title = soup.find(\"h2\").text\n",
    "    content = soup.find(\"div\", class_=\"body_intervista\").text\n",
    "    date = get_date(soup)\n",
    "\n",
    "    data.append({\"title\": title, \"content\": content, \"date\": date, \"url\": url})\n",
    "  return data\n",
    "\n",
    "def append_to_csv(data, filename):\n",
    "  # Appends the data to a CSV file.\n",
    "  with open(filename, \"a\", newline=\"\") as csvfile:\n",
    "    fieldnames = [\"title\", \"content\", \"date\", \"url\"]\n",
    "    writer = csv.DictWriter(csvfile, fieldnames=fieldnames)\n",
    "    for row in data:\n",
    "      writer.writerow(row)\n",
    "\n",
    "def write_to_csv(data, filename):\n",
    "  with open(filename, \"w\", newline=\"\") as csvfile:\n",
    "    fieldnames = [\"title\", \"content\", \"date\", \"url\"]\n",
    "    writer = csv.DictWriter(csvfile, fieldnames=fieldnames)\n",
    "\n",
    "    writer.writeheader()\n",
    "    for row in data:\n",
    "      writer.writerow(row)"
   ]
  },
  {
   "cell_type": "code",
   "execution_count": 132,
   "metadata": {},
   "outputs": [],
   "source": [
    "def main():\n",
    "  base_url = 'https://www.governo.it/it/interventi'\n",
    "  main_url = 'https://www.governo.it'\n",
    "  filename = \"./data/interventi_meloni.csv\"\n",
    "\n",
    "  interventi_urls = get_interventi_urls(base_url)\n",
    "  existing_urls = read_csv(filename)\n",
    "\n",
    "  new_urls = [url for url in interventi_urls if url not in existing_urls]\n",
    "\n",
    "  if new_urls:\n",
    "    data = create_data(new_urls)\n",
    "    append_to_csv(data, filename)\n",
    "  else:\n",
    "    print(\"No new URLS found.\")"
   ]
  },
  {
   "cell_type": "code",
   "execution_count": 133,
   "metadata": {},
   "outputs": [
    {
     "name": "stdout",
     "output_type": "stream",
     "text": [
      "No new URLS found.\n"
     ]
    }
   ],
   "source": [
    "main()"
   ]
  },
  {
   "cell_type": "code",
   "execution_count": null,
   "metadata": {},
   "outputs": [],
   "source": []
  }
 ],
 "metadata": {
  "kernelspec": {
   "display_name": "Python 3",
   "language": "python",
   "name": "python3"
  },
  "language_info": {
   "codemirror_mode": {
    "name": "ipython",
    "version": 3
   },
   "file_extension": ".py",
   "mimetype": "text/x-python",
   "name": "python",
   "nbconvert_exporter": "python",
   "pygments_lexer": "ipython3",
   "version": "3.10.11"
  }
 },
 "nbformat": 4,
 "nbformat_minor": 2
}
